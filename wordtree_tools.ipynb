{
 "cells": [
  {
   "cell_type": "markdown",
   "metadata": {},
   "source": [
    "## Writing Reviews to Postgres from CSV"
   ]
  },
  {
   "cell_type": "code",
   "execution_count": 5,
   "metadata": {},
   "outputs": [],
   "source": [
    "\n",
    "import csv\n",
    "from time import time\n",
    "from sqlalchemy.ext.declarative import declarative_base\n",
    "from sqlalchemy import create_engine\n",
    "from sqlalchemy.orm import sessionmaker\n",
    "from sqlalchemy import Column, Integer, JSON, String, Text, text, Date\n",
    "# from models import Review\n",
    "from credentials import POSTGRESQL_USER, POSTGRESQL_PASSWORD, POSTGRESQL_DB, POSTGRESQL_HOST\n",
    "\n",
    "from datetime import datetime, timedelta\n",
    "\n",
    "# import io\n",
    "import json\n",
    "import os\n",
    "import glob\n",
    "# import base64"
   ]
  },
  {
   "cell_type": "code",
   "execution_count": 6,
   "metadata": {},
   "outputs": [],
   "source": [
    "def get_paths(pathname):\n",
    "    return sorted([os.path.join(pathname, f) for f in os.listdir(pathname) if f.endswith(\".csv\")])"
   ]
  },
  {
   "cell_type": "code",
   "execution_count": 55,
   "metadata": {},
   "outputs": [],
   "source": [
    "DATA_DIR = './data/vacuum_reviews/Stick Vacuums & Electric Brooms'\n",
    "# DATA_DIR = './data/bed_pillow_reviews/1-Beckham/'\n",
    "# DATA_DIR = './data/bed_pillow_reviews/2-down alt/'\n",
    "all_files = get_paths(DATA_DIR)"
   ]
  },
  {
   "cell_type": "code",
   "execution_count": 56,
   "metadata": {},
   "outputs": [
    {
     "data": {
      "text/plain": [
       "['./data/vacuum_reviews/Stick Vacuums & Electric Brooms/01 BISSELL Featherweight Stick Lightweight Bagless Vacuum with Crevice Tool, 2033M, Black 2021-07-30.csv',\n",
       " './data/vacuum_reviews/Stick Vacuums & Electric Brooms/02 Eureka Flash Lightweight Stick Vacuum Cleaner, 15KPa Powerful Suction, 2 in 1 Corded Handheld Vac for Hard Floor and Carpet, Black 2021-07-30.csv',\n",
       " './data/vacuum_reviews/Stick Vacuums & Electric Brooms/03 EUREKA NEC222 HyperClean Cordless Vacuum Cleaner, Deep Ocean 2021-07-30.csv',\n",
       " './data/vacuum_reviews/Stick Vacuums & Electric Brooms/04 Dirt Devil Vibe 3-in-1 Vacuum Cleaner, Lightweight Corded Bagless Stick Vac with Handheld, SD20020, Red 2021-07-30.csv',\n",
       " './data/vacuum_reviews/Stick Vacuums & Electric Brooms/05 TOPPIN Stick Vacuum Cleaner Cordless - Tangle-Free 6 in 1 Powerful 12Kpa Suction Stick Vacuum, Lightweight and Large Capacity, Up to 28min Runtime, Ideal for Home Hard Floor Carpet Car Pet 2021-07-30.csv',\n",
       " './data/vacuum_reviews/Stick Vacuums & Electric Brooms/06 Corded Vacuum Cleaner, INSE I5 Stick Vacuum Cleaner 18KPA Powerful Suction with 600W Motor, 3 in 1 Handheld Vacuum for Pet Hair Hard Floor Home 2021-07-30.csv',\n",
       " './data/vacuum_reviews/Stick Vacuums & Electric Brooms/07 Wowgo Cordless Vacuum Cleaner, 160W Powerful Suction Stick Vacuum with 40min Max Long Runtime Detachable Battery, 4 in 1 Lightweight Quiet Handheld Vacuum Cleaner for Home Hard Floor Carpet Pet Hair 2021-07-30.csv',\n",
       " './data/vacuum_reviews/Stick Vacuums & Electric Brooms/08 Tineco Floor One S3 Cordless Hardwood Floors Cleaner, Lightweight Wet Dry Vacuum Cleaners for Multi-Surface Cleaning with Smart Control System 2021-07-30.csv',\n",
       " './data/vacuum_reviews/Stick Vacuums & Electric Brooms/09 Tineco iFLOOR Cordless Wet Dry Vacuum Cleaner and Mop, Powerful One-Step Cleaning for Hard Floors, Great for Sticky Messes and Pet Hair 2021-07-30.csv',\n",
       " './data/vacuum_reviews/Stick Vacuums & Electric Brooms/10 Tineco A11 Hero Cordless Lightweight Stick Vacuum Cleaner, 450W Motor for Ultra Powerful Suction Handheld Vac for Carpet, Hard Floor & Pet 2021-07-30.csv']"
      ]
     },
     "execution_count": 56,
     "metadata": {},
     "output_type": "execute_result"
    }
   ],
   "source": [
    "all_files"
   ]
  },
  {
   "cell_type": "code",
   "execution_count": 57,
   "metadata": {},
   "outputs": [
    {
     "data": {
      "text/plain": [
       "'Stick Vacuums & Electric Brooms'"
      ]
     },
     "execution_count": 57,
     "metadata": {},
     "output_type": "execute_result"
    }
   ],
   "source": [
    "def extract_product_category(file_path):\n",
    "    return os.path.normpath(file_path).split(os.sep)[-2]\n",
    "extract_product_category(all_files[0])"
   ]
  },
  {
   "cell_type": "code",
   "execution_count": 58,
   "metadata": {},
   "outputs": [],
   "source": [
    "def extract_product_name(file_path):\n",
    "    return ('_').join(os.path.splitext(os.path.split(file_path)[-1])[0].replace(',', '').split(' ')[:-1])"
   ]
  },
  {
   "cell_type": "code",
   "execution_count": 59,
   "metadata": {},
   "outputs": [
    {
     "data": {
      "text/plain": [
       "'02_Eureka_Flash_Lightweight_Stick_Vacuum_Cleaner_15KPa_Powerful_Suction_2_in_1_Corded_Handheld_Vac_for_Hard_Floor_and_Carpet_Black'"
      ]
     },
     "execution_count": 59,
     "metadata": {},
     "output_type": "execute_result"
    }
   ],
   "source": [
    "extract_product_name(all_files[1])"
   ]
  },
  {
   "cell_type": "code",
   "execution_count": 60,
   "metadata": {},
   "outputs": [],
   "source": [
    "Base = declarative_base()\n",
    "\n",
    "class Review(Base):\n",
    "    __tablename__ = 'reviews'\n",
    "\n",
    "    review_id = Column(Integer, primary_key=True, server_default=text(\"nextval('reviews_review_id_seq'::regclass)\"))\n",
    "    content = Column(Text, nullable=False)\n",
    "    meta_data = Column(JSON)\n",
    "    product_id = Column(String(255), nullable=False)\n",
    "    variation = Column(String(80))\n",
    "    review_date = Column(Date)\n",
    "    rater_id = Column(String(80))\n",
    "    product_category = Column(String(80))\n",
    "    product_rating = Column(Integer)"
   ]
  },
  {
   "cell_type": "code",
   "execution_count": 61,
   "metadata": {},
   "outputs": [],
   "source": [
    "engine = create_engine(f\"postgresql+psycopg2://{POSTGRESQL_USER}:{POSTGRESQL_PASSWORD}@{POSTGRESQL_HOST}:5432/{POSTGRESQL_DB}\")\n",
    "Base.metadata.create_all(engine)\n",
    "\n",
    "session = sessionmaker(bind=engine)\n",
    "s = session()"
   ]
  },
  {
   "cell_type": "code",
   "execution_count": 62,
   "metadata": {},
   "outputs": [
    {
     "name": "stdout",
     "output_type": "stream",
     "text": [
      "processing ./data/vacuum_reviews/Stick Vacuums & Electric Brooms/01 BISSELL Featherweight Stick Lightweight Bagless Vacuum with Crevice Tool, 2033M, Black 2021-07-30.csv\n",
      "processing ./data/vacuum_reviews/Stick Vacuums & Electric Brooms/02 Eureka Flash Lightweight Stick Vacuum Cleaner, 15KPa Powerful Suction, 2 in 1 Corded Handheld Vac for Hard Floor and Carpet, Black 2021-07-30.csv\n",
      "processing ./data/vacuum_reviews/Stick Vacuums & Electric Brooms/03 EUREKA NEC222 HyperClean Cordless Vacuum Cleaner, Deep Ocean 2021-07-30.csv\n",
      "processing ./data/vacuum_reviews/Stick Vacuums & Electric Brooms/04 Dirt Devil Vibe 3-in-1 Vacuum Cleaner, Lightweight Corded Bagless Stick Vac with Handheld, SD20020, Red 2021-07-30.csv\n",
      "processing ./data/vacuum_reviews/Stick Vacuums & Electric Brooms/05 TOPPIN Stick Vacuum Cleaner Cordless - Tangle-Free 6 in 1 Powerful 12Kpa Suction Stick Vacuum, Lightweight and Large Capacity, Up to 28min Runtime, Ideal for Home Hard Floor Carpet Car Pet 2021-07-30.csv\n",
      "processing ./data/vacuum_reviews/Stick Vacuums & Electric Brooms/06 Corded Vacuum Cleaner, INSE I5 Stick Vacuum Cleaner 18KPA Powerful Suction with 600W Motor, 3 in 1 Handheld Vacuum for Pet Hair Hard Floor Home 2021-07-30.csv\n",
      "processing ./data/vacuum_reviews/Stick Vacuums & Electric Brooms/07 Wowgo Cordless Vacuum Cleaner, 160W Powerful Suction Stick Vacuum with 40min Max Long Runtime Detachable Battery, 4 in 1 Lightweight Quiet Handheld Vacuum Cleaner for Home Hard Floor Carpet Pet Hair 2021-07-30.csv\n",
      "processing ./data/vacuum_reviews/Stick Vacuums & Electric Brooms/08 Tineco Floor One S3 Cordless Hardwood Floors Cleaner, Lightweight Wet Dry Vacuum Cleaners for Multi-Surface Cleaning with Smart Control System 2021-07-30.csv\n",
      "processing ./data/vacuum_reviews/Stick Vacuums & Electric Brooms/09 Tineco iFLOOR Cordless Wet Dry Vacuum Cleaner and Mop, Powerful One-Step Cleaning for Hard Floors, Great for Sticky Messes and Pet Hair 2021-07-30.csv\n",
      "processing ./data/vacuum_reviews/Stick Vacuums & Electric Brooms/10 Tineco A11 Hero Cordless Lightweight Stick Vacuum Cleaner, 450W Motor for Ultra Powerful Suction Handheld Vac for Carpet, Hard Floor & Pet 2021-07-30.csv\n"
     ]
    }
   ],
   "source": [
    "# PRODUCT_ID = 'BISSELL Crosswave' # Rename according to product ID\n",
    "\n",
    "try:\n",
    "    for file in all_files:\n",
    "        print(f'processing {file}')\n",
    "#         with open(file) as fh:\n",
    "        product_category = extract_product_category(file)\n",
    "        product_id = extract_product_name(file)\n",
    "        with open(file, encoding='utf-8-sig') as fh:\n",
    "            csvreader = csv.reader(fh, delimiter=',')\n",
    "            headers = []\n",
    "            for idx, row in enumerate(csvreader):\n",
    "                if idx == 0:\n",
    "                    headers = row\n",
    "                else:\n",
    "                    item = dict(zip(headers, row))\n",
    "#                     print(item)\n",
    "                    entry_item = {\n",
    "                        'product_id': product_id,\n",
    "                        'product_category': product_category,\n",
    "                        'variation': item['Variation'],\n",
    "                        'content': item['Title'] + ' - ' + item['Body'],\n",
    "                        'product_rating': item['Rating'],\n",
    "                        'rater_id': item['Author'],\n",
    "                        'review_date': item['Date'].split(' on ')[1],\n",
    "                        'meta_data': {k:d for (k, d) in item.items() if k not in ['Variation', 'Body', 'Rating', 'Author', 'Date']}\n",
    "                        }\n",
    "                    new_review = Review(**entry_item)\n",
    "                    try:\n",
    "                        s.add(new_review)\n",
    "                    except:\n",
    "                        print(entry_item)\n",
    "    s.commit()\n",
    "except():\n",
    "    s.rollback()\n",
    "    s.close()\n",
    "            "
   ]
  },
  {
   "cell_type": "markdown",
   "metadata": {},
   "source": [
    "## Basic Text Analysis"
   ]
  },
  {
   "cell_type": "code",
   "execution_count": 81,
   "metadata": {},
   "outputs": [],
   "source": [
    "import pandas as pd\n",
    "import numpy as np\n",
    "\n",
    "# Text preprocessing/analysis\n",
    "import re\n",
    "from nltk import word_tokenize, sent_tokenize, FreqDist\n",
    "from nltk.util import ngrams\n",
    "from nltk.corpus import stopwords\n",
    "from nltk.stem import WordNetLemmatizer\n",
    "from nltk.tokenize import RegexpTokenizer\n",
    "from collections import Counter"
   ]
  },
  {
   "cell_type": "code",
   "execution_count": 73,
   "metadata": {},
   "outputs": [],
   "source": [
    "def read_files(files, separator=','):\n",
    "    \"\"\"\n",
    "    Takes a list of pathnames and individually reads then concats them into a single DataFrame which is returned.\n",
    "    Can handle Excel files, csv, or delimiter separated text.\n",
    "    \"\"\"\n",
    "    processed_files = []\n",
    "    for file in files:\n",
    "        if file.lower().endswith('.xlsx') or file.lower().endswith('.xls'):\n",
    "            processed_files.append(pd.read_excel(file, index_col=None, header=0))\n",
    "        elif file.lower().endswith('.csv'):\n",
    "            processed_files.append(pd.read_csv(file, index_col=None, header=0))\n",
    "        else:\n",
    "            processed_files.append(pd.read_csv(file, sep=separator, index_col=None, header=0))\n",
    "    completed_df = pd.concat(processed_files, ignore_index=True)\n",
    "    return completed_df"
   ]
  },
  {
   "cell_type": "code",
   "execution_count": 74,
   "metadata": {},
   "outputs": [],
   "source": [
    "pillow_reviews = read_files(all_files)"
   ]
  },
  {
   "cell_type": "code",
   "execution_count": 88,
   "metadata": {},
   "outputs": [
    {
     "name": "stderr",
     "output_type": "stream",
     "text": [
      "/Users/michaeldu/anaconda3/lib/python3.7/site-packages/ipykernel_launcher.py:1: FutureWarning: Columnar iteration over characters will be deprecated in future releases.\n",
      "  \"\"\"Entry point for launching an IPython kernel.\n"
     ]
    }
   ],
   "source": [
    "pillow_reviews['ReviewCountry'], pillow_reviews['ReviewDate'] = pillow_reviews['Date'].str.split(' on ', 1).str\n",
    "\n",
    "pillow_reviews['ReviewDate'] = pd.to_datetime(pillow_reviews['ReviewDate'])"
   ]
  },
  {
   "cell_type": "code",
   "execution_count": 7,
   "metadata": {},
   "outputs": [
    {
     "name": "stdout",
     "output_type": "stream",
     "text": [
      "Reviews with EITHER Image or Video: 310\n",
      "Reviews with NO Image or Video: 10686\n"
     ]
    }
   ],
   "source": [
    "# Contains Image OR Video\n",
    "print(f\"Reviews with EITHER Image or Video: {len(pillow_reviews[(pillow_reviews.Images!='-') | (pillow_reviews.Videos!='-')])}\")\n",
    "\n",
    "# Contains No Image Nor Video\n",
    "print(f\"Reviews with NO Image or Video: {len(pillow_reviews[(pillow_reviews.Images=='-') & (pillow_reviews.Videos=='-')])}\")"
   ]
  },
  {
   "cell_type": "code",
   "execution_count": 8,
   "metadata": {},
   "outputs": [],
   "source": [
    "# EXPORT FOR TABLEAU USE\n",
    "# pillow_reviews.to_csv('dataset/pillow_reviews_{}.csv'.format(re.sub(r'(-|:| )', '', str(datetime.now())[:-7])), encoding='utf_8_sig')"
   ]
  },
  {
   "cell_type": "code",
   "execution_count": 10,
   "metadata": {
    "scrolled": true
   },
   "outputs": [],
   "source": [
    "prod_1 = pillow_reviews[pillow_reviews['Variation'] == 'B01LYNW421']"
   ]
  },
  {
   "cell_type": "code",
   "execution_count": 89,
   "metadata": {},
   "outputs": [],
   "source": [
    "prod_1_good = prod_1[prod_1['Rating'] >= 4]\n",
    "# prod_1_ok = prod_1[prod_1['Rating'] == 3]\n",
    "prod_1_bad = prod_1[prod_1['Rating'] <= 3]"
   ]
  },
  {
   "cell_type": "code",
   "execution_count": 90,
   "metadata": {},
   "outputs": [],
   "source": [
    "prod_1_good_reviews = prod_1_good.reset_index()['Body']\n",
    "# prod_1_ok_reviews = prod_1_ok.reset_index()['Body']\n",
    "prod_1_bad_reviews = prod_1_bad.reset_index()['Body']"
   ]
  },
  {
   "cell_type": "code",
   "execution_count": 13,
   "metadata": {},
   "outputs": [],
   "source": [
    "def summarise(pattern, strings, freq):\n",
    "    \"\"\"Summarise strings matching a pattern.\"\"\"\n",
    "    # Find matches\n",
    "    compiled_pattern = re.compile(pattern)\n",
    "    matches = [s for s in strings if compiled_pattern.search(s)]\n",
    "    \n",
    "    # Print volume and proportion of matches\n",
    "    print(\"{} strings, that is {:.2%} of total\".format(len(matches), len(matches)/ len(strings)))\n",
    "    \n",
    "    # Create list of tuples containing matches and their frequency\n",
    "    output = [(s, freq[s]) for s in set(matches)]\n",
    "    output.sort(key=lambda x:x[1], reverse=True)\n",
    "    \n",
    "    return output"
   ]
  },
  {
   "cell_type": "code",
   "execution_count": 28,
   "metadata": {},
   "outputs": [],
   "source": [
    "def find_outlaw(word):\n",
    "    \"\"\"Find words that contain a same character 3+ times in a row.\"\"\"\n",
    "    is_outlaw = False\n",
    "    for i, letter in enumerate(word):\n",
    "        if i > 1:\n",
    "            if word[i] == word[i-1] == word[i-2] and word[i].isalpha():\n",
    "                is_outlaw = True\n",
    "                break\n",
    "    return is_outlaw"
   ]
  },
  {
   "cell_type": "markdown",
   "metadata": {},
   "source": [
    "## AWS SDK Testing"
   ]
  },
  {
   "cell_type": "code",
   "execution_count": 150,
   "metadata": {
    "scrolled": true
   },
   "outputs": [],
   "source": [
    "# from credentials import ACCESS_KEY, SECRET_KEY, \n",
    "\n",
    "# comprehend = boto3.client(\n",
    "#     service_name='comprehend', \n",
    "#     region_name='us-west-2',\n",
    "#     aws_access_key_id=ACCESS_KEY,\n",
    "#     aws_secret_access_key=SECRET_KEY)"
   ]
  },
  {
   "cell_type": "code",
   "execution_count": 1,
   "metadata": {},
   "outputs": [],
   "source": [
    "# text = single_review\n",
    "\n",
    "# print('Calling DetectKeyPhrases')\n",
    "# print(json.dumps(comprehend.detect_key_phrases(Text=text, LanguageCode='en'), sort_keys=True, indent=4))\n",
    "# print('End of DetectKeyPhrases\\n')"
   ]
  }
 ],
 "metadata": {
  "kernelspec": {
   "display_name": "Python 3",
   "language": "python",
   "name": "python3"
  },
  "language_info": {
   "codemirror_mode": {
    "name": "ipython",
    "version": 3
   },
   "file_extension": ".py",
   "mimetype": "text/x-python",
   "name": "python",
   "nbconvert_exporter": "python",
   "pygments_lexer": "ipython3",
   "version": "3.7.3"
  }
 },
 "nbformat": 4,
 "nbformat_minor": 2
}
